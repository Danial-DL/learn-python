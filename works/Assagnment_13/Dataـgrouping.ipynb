{
 "cells": [
  {
   "cell_type": "code",
   "execution_count": 143,
   "metadata": {},
   "outputs": [],
   "source": [
    "import numpy as np\n",
    "import pandas as pd"
   ]
  },
  {
   "cell_type": "code",
   "execution_count": 144,
   "metadata": {},
   "outputs": [
    {
     "data": {
      "text/html": [
       "<div>\n",
       "<style scoped>\n",
       "    .dataframe tbody tr th:only-of-type {\n",
       "        vertical-align: middle;\n",
       "    }\n",
       "\n",
       "    .dataframe tbody tr th {\n",
       "        vertical-align: top;\n",
       "    }\n",
       "\n",
       "    .dataframe thead th {\n",
       "        text-align: right;\n",
       "    }\n",
       "</style>\n",
       "<table border=\"1\" class=\"dataframe\">\n",
       "  <thead>\n",
       "    <tr style=\"text-align: right;\">\n",
       "      <th></th>\n",
       "      <th>longitude</th>\n",
       "      <th>latitude</th>\n",
       "      <th>housing_median_age</th>\n",
       "      <th>total_rooms</th>\n",
       "      <th>total_bedrooms</th>\n",
       "      <th>population</th>\n",
       "      <th>households</th>\n",
       "      <th>median_income</th>\n",
       "      <th>median_house_value</th>\n",
       "      <th>ocean_proximity</th>\n",
       "    </tr>\n",
       "  </thead>\n",
       "  <tbody>\n",
       "    <tr>\n",
       "      <th>19101</th>\n",
       "      <td>-122.62</td>\n",
       "      <td>38.25</td>\n",
       "      <td>20.0</td>\n",
       "      <td>1888.0</td>\n",
       "      <td>411.0</td>\n",
       "      <td>826.0</td>\n",
       "      <td>396.0</td>\n",
       "      <td>2.8750</td>\n",
       "      <td>189100.0</td>\n",
       "      <td>&lt;1H OCEAN</td>\n",
       "    </tr>\n",
       "    <tr>\n",
       "      <th>8314</th>\n",
       "      <td>-118.32</td>\n",
       "      <td>33.35</td>\n",
       "      <td>27.0</td>\n",
       "      <td>1675.0</td>\n",
       "      <td>521.0</td>\n",
       "      <td>744.0</td>\n",
       "      <td>331.0</td>\n",
       "      <td>2.1579</td>\n",
       "      <td>450000.0</td>\n",
       "      <td>ISLAND</td>\n",
       "    </tr>\n",
       "    <tr>\n",
       "      <th>4215</th>\n",
       "      <td>-118.27</td>\n",
       "      <td>34.13</td>\n",
       "      <td>46.0</td>\n",
       "      <td>1613.0</td>\n",
       "      <td>396.0</td>\n",
       "      <td>966.0</td>\n",
       "      <td>416.0</td>\n",
       "      <td>2.9392</td>\n",
       "      <td>230300.0</td>\n",
       "      <td>&lt;1H OCEAN</td>\n",
       "    </tr>\n",
       "    <tr>\n",
       "      <th>6819</th>\n",
       "      <td>-118.09</td>\n",
       "      <td>34.09</td>\n",
       "      <td>40.0</td>\n",
       "      <td>855.0</td>\n",
       "      <td>208.0</td>\n",
       "      <td>745.0</td>\n",
       "      <td>222.0</td>\n",
       "      <td>3.0125</td>\n",
       "      <td>224000.0</td>\n",
       "      <td>&lt;1H OCEAN</td>\n",
       "    </tr>\n",
       "    <tr>\n",
       "      <th>1504</th>\n",
       "      <td>-122.03</td>\n",
       "      <td>37.94</td>\n",
       "      <td>21.0</td>\n",
       "      <td>5541.0</td>\n",
       "      <td>776.0</td>\n",
       "      <td>2214.0</td>\n",
       "      <td>737.0</td>\n",
       "      <td>5.5777</td>\n",
       "      <td>279300.0</td>\n",
       "      <td>NEAR BAY</td>\n",
       "    </tr>\n",
       "  </tbody>\n",
       "</table>\n",
       "</div>"
      ],
      "text/plain": [
       "       longitude  latitude  housing_median_age  total_rooms  total_bedrooms  \\\n",
       "19101    -122.62     38.25                20.0       1888.0           411.0   \n",
       "8314     -118.32     33.35                27.0       1675.0           521.0   \n",
       "4215     -118.27     34.13                46.0       1613.0           396.0   \n",
       "6819     -118.09     34.09                40.0        855.0           208.0   \n",
       "1504     -122.03     37.94                21.0       5541.0           776.0   \n",
       "\n",
       "       population  households  median_income  median_house_value  \\\n",
       "19101       826.0       396.0         2.8750            189100.0   \n",
       "8314        744.0       331.0         2.1579            450000.0   \n",
       "4215        966.0       416.0         2.9392            230300.0   \n",
       "6819        745.0       222.0         3.0125            224000.0   \n",
       "1504       2214.0       737.0         5.5777            279300.0   \n",
       "\n",
       "      ocean_proximity  \n",
       "19101       <1H OCEAN  \n",
       "8314           ISLAND  \n",
       "4215        <1H OCEAN  \n",
       "6819        <1H OCEAN  \n",
       "1504         NEAR BAY  "
      ]
     },
     "execution_count": 144,
     "metadata": {},
     "output_type": "execute_result"
    }
   ],
   "source": [
    "data = pd.read_csv('housing.csv',encoding='latin-1',)\n",
    "data.sample(5)"
   ]
  },
  {
   "cell_type": "code",
   "execution_count": 145,
   "metadata": {},
   "outputs": [
    {
     "data": {
      "text/html": [
       "<div>\n",
       "<style scoped>\n",
       "    .dataframe tbody tr th:only-of-type {\n",
       "        vertical-align: middle;\n",
       "    }\n",
       "\n",
       "    .dataframe tbody tr th {\n",
       "        vertical-align: top;\n",
       "    }\n",
       "\n",
       "    .dataframe thead th {\n",
       "        text-align: right;\n",
       "    }\n",
       "</style>\n",
       "<table border=\"1\" class=\"dataframe\">\n",
       "  <thead>\n",
       "    <tr style=\"text-align: right;\">\n",
       "      <th></th>\n",
       "      <th>longitude</th>\n",
       "      <th>latitude</th>\n",
       "      <th>housing_median_age</th>\n",
       "      <th>total_rooms</th>\n",
       "      <th>total_bedrooms</th>\n",
       "      <th>population</th>\n",
       "      <th>households</th>\n",
       "      <th>median_income</th>\n",
       "      <th>median_house_value</th>\n",
       "      <th>ocean_proximity</th>\n",
       "    </tr>\n",
       "  </thead>\n",
       "  <tbody>\n",
       "  </tbody>\n",
       "</table>\n",
       "</div>"
      ],
      "text/plain": [
       "Empty DataFrame\n",
       "Columns: [longitude, latitude, housing_median_age, total_rooms, total_bedrooms, population, households, median_income, median_house_value, ocean_proximity]\n",
       "Index: []"
      ]
     },
     "execution_count": 145,
     "metadata": {},
     "output_type": "execute_result"
    }
   ],
   "source": [
    "data.sample(0)"
   ]
  },
  {
   "cell_type": "code",
   "execution_count": 146,
   "metadata": {},
   "outputs": [],
   "source": [
    "ages = data['housing_median_age']"
   ]
  },
  {
   "cell_type": "code",
   "execution_count": 147,
   "metadata": {},
   "outputs": [],
   "source": [
    "bins = [0 , 5 , 20 , 30 , 40 , 90 ]"
   ]
  },
  {
   "cell_type": "code",
   "execution_count": 148,
   "metadata": {},
   "outputs": [
    {
     "data": {
      "text/plain": [
       "0        (40, 90]\n",
       "1        (20, 30]\n",
       "2        (40, 90]\n",
       "3        (40, 90]\n",
       "4        (40, 90]\n",
       "           ...   \n",
       "20635    (20, 30]\n",
       "20636     (5, 20]\n",
       "20637     (5, 20]\n",
       "20638     (5, 20]\n",
       "20639     (5, 20]\n",
       "Name: housing_median_age, Length: 20640, dtype: category\n",
       "Categories (5, interval[int64, right]): [(0, 5] < (5, 20] < (20, 30] < (30, 40] < (40, 90]]"
      ]
     },
     "execution_count": 148,
     "metadata": {},
     "output_type": "execute_result"
    }
   ],
   "source": [
    "cats = pd.cut(ages,bins)\n",
    "cats"
   ]
  },
  {
   "cell_type": "code",
   "execution_count": 149,
   "metadata": {},
   "outputs": [],
   "source": [
    "# cats.codes"
   ]
  },
  {
   "cell_type": "code",
   "execution_count": 150,
   "metadata": {},
   "outputs": [],
   "source": [
    "# cats.categories"
   ]
  },
  {
   "cell_type": "code",
   "execution_count": 151,
   "metadata": {},
   "outputs": [
    {
     "name": "stderr",
     "output_type": "stream",
     "text": [
      "/tmp/ipykernel_4018/1485279302.py:1: FutureWarning: pandas.value_counts is deprecated and will be removed in a future version. Use pd.Series(obj).value_counts() instead.\n",
      "  pd.value_counts(cats)\n"
     ]
    },
    {
     "data": {
      "text/plain": [
       "housing_median_age\n",
       "(5, 20]     5734\n",
       "(30, 40]    5617\n",
       "(20, 30]    4852\n",
       "(40, 90]    3878\n",
       "(0, 5]       559\n",
       "Name: count, dtype: int64"
      ]
     },
     "execution_count": 151,
     "metadata": {},
     "output_type": "execute_result"
    }
   ],
   "source": [
    "pd.value_counts(cats)"
   ]
  },
  {
   "cell_type": "code",
   "execution_count": 152,
   "metadata": {},
   "outputs": [],
   "source": [
    "groupName = ['Newconstruction' , 'Relatively new' , 'average' , 'old' , 'very old' ]"
   ]
  },
  {
   "cell_type": "code",
   "execution_count": 153,
   "metadata": {},
   "outputs": [
    {
     "data": {
      "text/plain": [
       "0              very old\n",
       "1               average\n",
       "2              very old\n",
       "3              very old\n",
       "4              very old\n",
       "              ...      \n",
       "20635           average\n",
       "20636    Relatively new\n",
       "20637    Relatively new\n",
       "20638    Relatively new\n",
       "20639    Relatively new\n",
       "Name: housing_median_age, Length: 20640, dtype: category\n",
       "Categories (5, object): ['Newconstruction' < 'Relatively new' < 'average' < 'old' < 'very old']"
      ]
     },
     "execution_count": 153,
     "metadata": {},
     "output_type": "execute_result"
    }
   ],
   "source": [
    "pd.cut(ages, bins , labels=groupName)\n"
   ]
  },
  {
   "cell_type": "code",
   "execution_count": 154,
   "metadata": {},
   "outputs": [
    {
     "name": "stderr",
     "output_type": "stream",
     "text": [
      "/tmp/ipykernel_4018/1485279302.py:1: FutureWarning: pandas.value_counts is deprecated and will be removed in a future version. Use pd.Series(obj).value_counts() instead.\n",
      "  pd.value_counts(cats)\n"
     ]
    },
    {
     "data": {
      "text/plain": [
       "housing_median_age\n",
       "(5, 20]     5734\n",
       "(30, 40]    5617\n",
       "(20, 30]    4852\n",
       "(40, 90]    3878\n",
       "(0, 5]       559\n",
       "Name: count, dtype: int64"
      ]
     },
     "execution_count": 154,
     "metadata": {},
     "output_type": "execute_result"
    }
   ],
   "source": [
    "pd.value_counts(cats)"
   ]
  }
 ],
 "metadata": {
  "kernelspec": {
   "display_name": "Python 3",
   "language": "python",
   "name": "python3"
  },
  "language_info": {
   "codemirror_mode": {
    "name": "ipython",
    "version": 3
   },
   "file_extension": ".py",
   "mimetype": "text/x-python",
   "name": "python",
   "nbconvert_exporter": "python",
   "pygments_lexer": "ipython3",
   "version": "3.10.12"
  }
 },
 "nbformat": 4,
 "nbformat_minor": 2
}
